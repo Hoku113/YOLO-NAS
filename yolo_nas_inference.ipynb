{
 "cells": [
  {
   "attachments": {},
   "cell_type": "markdown",
   "metadata": {},
   "source": [
    "## Import Module"
   ]
  },
  {
   "cell_type": "code",
   "execution_count": 1,
   "metadata": {},
   "outputs": [
    {
     "data": {
      "text/plain": [
       "True"
      ]
     },
     "execution_count": 1,
     "metadata": {},
     "output_type": "execute_result"
    }
   ],
   "source": [
    "from super_gradients.training import models\n",
    "from super_gradients.common.object_names import Models\n",
    "import torch\n",
    "import os\n",
    "\n",
    "# check gpu\n",
    "torch.cuda.is_available()"
   ]
  },
  {
   "cell_type": "code",
   "execution_count": 6,
   "metadata": {},
   "outputs": [],
   "source": [
    "# get a model path\n",
    "checkpoint_path = \"./ckpt/ckpt_best.pth\"\n",
    "\n",
    "# get a test datasets\n",
    "test_dataset_path = \"./Pineapple-weed/images/\"\n",
    "test_dataset = os.listdir(test_dataset_path)"
   ]
  },
  {
   "attachments": {},
   "cell_type": "markdown",
   "metadata": {},
   "source": [
    "### Roading YOLO-NAS S model"
   ]
  },
  {
   "cell_type": "code",
   "execution_count": 7,
   "metadata": {},
   "outputs": [],
   "source": [
    "model = models.get(\"yolo_nas_s\", num_classes=2, checkpoint_path=checkpoint_path).cuda()"
   ]
  },
  {
   "cell_type": "code",
   "execution_count": 8,
   "metadata": {},
   "outputs": [
    {
     "data": {
      "text/plain": [
       "==============================================================================================================\n",
       "Layer (type:depth-idx)                                       Output Shape              Param #\n",
       "==============================================================================================================\n",
       "YoloNAS_S                                                    [16, 8400, 4]             --\n",
       "├─NStageBackbone: 1-1                                        [16, 96, 160, 160]        --\n",
       "│    └─YoloNASStem: 2-1                                      [16, 48, 320, 320]        --\n",
       "│    │    └─QARepVGGBlock: 3-1                               [16, 48, 320, 320]        3,024\n",
       "│    └─YoloNASStage: 2-2                                     [16, 96, 160, 160]        --\n",
       "│    │    └─QARepVGGBlock: 3-2                               [16, 96, 160, 160]        88,128\n",
       "│    │    └─YoloNASCSPLayer: 3-3                             [16, 96, 160, 160]        91,202\n",
       "│    └─YoloNASStage: 2-3                                     [16, 192, 80, 80]         --\n",
       "│    │    └─QARepVGGBlock: 3-4                               [16, 192, 80, 80]         351,360\n",
       "│    │    └─YoloNASCSPLayer: 3-5                             [16, 192, 80, 80]         519,043\n",
       "│    └─YoloNASStage: 2-4                                     [16, 384, 40, 40]         --\n",
       "│    │    └─QARepVGGBlock: 3-6                               [16, 384, 40, 40]         1,403,136\n",
       "│    │    └─YoloNASCSPLayer: 3-7                             [16, 384, 40, 40]         1,905,413\n",
       "│    └─YoloNASStage: 2-5                                     [16, 768, 20, 20]         --\n",
       "│    │    └─QARepVGGBlock: 3-8                               [16, 768, 20, 20]         5,607,936\n",
       "│    │    └─YoloNASCSPLayer: 3-9                             [16, 768, 20, 20]         3,398,402\n",
       "│    └─SPP: 2-6                                              [16, 768, 20, 20]         --\n",
       "│    │    └─Conv: 3-10                                       [16, 384, 20, 20]         295,680\n",
       "│    │    └─ModuleList: 3-11                                 --                        --\n",
       "│    │    └─Conv: 3-12                                       [16, 768, 20, 20]         1,181,184\n",
       "├─YoloNASPANNeckWithC2: 1-2                                  [16, 96, 80, 80]          --\n",
       "│    └─YoloNASUpStage: 2-7                                   [16, 192, 20, 20]         --\n",
       "│    │    └─Conv: 3-13                                       [16, 192, 40, 40]         74,112\n",
       "│    │    └─Conv: 3-14                                       [16, 192, 80, 80]         37,248\n",
       "│    │    └─Conv: 3-15                                       [16, 192, 40, 40]         332,160\n",
       "│    │    └─Conv: 3-16                                       [16, 192, 20, 20]         147,840\n",
       "│    │    └─ConvTranspose2d: 3-17                            [16, 192, 40, 40]         147,648\n",
       "│    │    └─Conv: 3-18                                       [16, 192, 40, 40]         110,976\n",
       "│    │    └─YoloNASCSPLayer: 3-19                            [16, 192, 40, 40]         362,626\n",
       "│    └─YoloNASUpStage: 2-8                                   [16, 96, 40, 40]          --\n",
       "│    │    └─Conv: 3-20                                       [16, 96, 80, 80]          18,624\n",
       "│    │    └─Conv: 3-21                                       [16, 96, 160, 160]        9,408\n",
       "│    │    └─Conv: 3-22                                       [16, 96, 80, 80]          83,136\n",
       "│    │    └─Conv: 3-23                                       [16, 96, 40, 40]          18,624\n",
       "│    │    └─ConvTranspose2d: 3-24                            [16, 96, 80, 80]          36,960\n",
       "│    │    └─Conv: 3-25                                       [16, 96, 80, 80]          27,840\n",
       "│    │    └─YoloNASCSPLayer: 3-26                            [16, 96, 80, 80]          195,074\n",
       "│    └─YoloNASDownStage: 2-9                                 [16, 192, 40, 40]         --\n",
       "│    │    └─Conv: 3-27                                       [16, 96, 40, 40]          83,136\n",
       "│    │    └─YoloNASCSPLayer: 3-28                            [16, 192, 40, 40]         197,762\n",
       "│    └─YoloNASDownStage: 2-10                                [16, 384, 20, 20]         --\n",
       "│    │    └─Conv: 3-29                                       [16, 192, 20, 20]         332,160\n",
       "│    │    └─YoloNASCSPLayer: 3-30                            [16, 384, 20, 20]         247,298\n",
       "├─NDFLHeads: 1-3                                             [16, 8400, 4]             --\n",
       "│    └─YoloNASDFLHead: 2-11                                  [16, 68, 80, 80]          --\n",
       "│    │    └─ConvBNReLU: 3-31                                 [16, 64, 80, 80]          6,272\n",
       "│    │    └─Sequential: 3-32                                 [16, 64, 80, 80]          36,992\n",
       "│    │    └─Conv2d: 3-33                                     [16, 2, 80, 80]           130\n",
       "│    │    └─Sequential: 3-34                                 [16, 64, 80, 80]          36,992\n",
       "│    │    └─Conv2d: 3-35                                     [16, 68, 80, 80]          4,420\n",
       "│    └─YoloNASDFLHead: 2-12                                  [16, 68, 40, 40]          --\n",
       "│    │    └─ConvBNReLU: 3-36                                 [16, 128, 40, 40]         24,832\n",
       "│    │    └─Sequential: 3-37                                 [16, 128, 40, 40]         147,712\n",
       "│    │    └─Conv2d: 3-38                                     [16, 2, 40, 40]           258\n",
       "│    │    └─Sequential: 3-39                                 [16, 128, 40, 40]         147,712\n",
       "│    │    └─Conv2d: 3-40                                     [16, 68, 40, 40]          8,772\n",
       "│    └─YoloNASDFLHead: 2-13                                  [16, 68, 20, 20]          --\n",
       "│    │    └─ConvBNReLU: 3-41                                 [16, 256, 20, 20]         98,816\n",
       "│    │    └─Sequential: 3-42                                 [16, 256, 20, 20]         590,336\n",
       "│    │    └─Conv2d: 3-43                                     [16, 2, 20, 20]           514\n",
       "│    │    └─Sequential: 3-44                                 [16, 256, 20, 20]         590,336\n",
       "│    │    └─Conv2d: 3-45                                     [16, 68, 20, 20]          17,476\n",
       "==============================================================================================================\n",
       "Total params: 19,018,710\n",
       "Trainable params: 19,018,710\n",
       "Non-trainable params: 0\n",
       "Total mult-adds (G): 276.12\n",
       "==============================================================================================================\n",
       "Input size (MB): 78.64\n",
       "Forward/backward pass size (MB): 14912.61\n",
       "Params size (MB): 51.37\n",
       "Estimated Total Size (MB): 15042.63\n",
       "=============================================================================================================="
      ]
     },
     "execution_count": 8,
     "metadata": {},
     "output_type": "execute_result"
    }
   ],
   "source": [
    "# check the model architecture\n",
    "from torchinfo import summary\n",
    "\n",
    "summary(model=model,input_size=(16, 3, 640, 640))"
   ]
  },
  {
   "attachments": {},
   "cell_type": "markdown",
   "metadata": {},
   "source": [
    "### Let's start predict the YOLO-NAS model"
   ]
  },
  {
   "cell_type": "code",
   "execution_count": 15,
   "metadata": {},
   "outputs": [
    {
     "name": "stderr",
     "output_type": "stream",
     "text": [
      "Predicting Images:   0%|          | 0/4 [00:00<?, ?it/s]"
     ]
    },
    {
     "name": "stderr",
     "output_type": "stream",
     "text": [
      "Predicting Images: 100%|██████████| 4/4 [00:00<00:00, 15.12it/s]\n"
     ]
    }
   ],
   "source": [
    "images_full_path = []\n",
    "\n",
    "for i in range(len(test_dataset)):\n",
    "\n",
    "    test_image = os.path.join(test_dataset_path, test_dataset[i])\n",
    "    images_full_path.append(test_image)\n",
    "\n",
    "image = model.predict(images_full_path)\n",
    "\n",
    "image.save(output_folder=f\"./output/yolo-nas/\", box_thickness=2, show_confidence=True)"
   ]
  },
  {
   "cell_type": "code",
   "execution_count": null,
   "metadata": {},
   "outputs": [],
   "source": []
  }
 ],
 "metadata": {
  "kernelspec": {
   "display_name": ".venv",
   "language": "python",
   "name": "python3"
  },
  "language_info": {
   "codemirror_mode": {
    "name": "ipython",
    "version": 3
   },
   "file_extension": ".py",
   "mimetype": "text/x-python",
   "name": "python",
   "nbconvert_exporter": "python",
   "pygments_lexer": "ipython3",
   "version": "3.9.5"
  },
  "orig_nbformat": 4
 },
 "nbformat": 4,
 "nbformat_minor": 2
}
